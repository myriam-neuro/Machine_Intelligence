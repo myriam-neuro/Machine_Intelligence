{
 "cells": [
  {
   "cell_type": "markdown",
   "id": "aaeef981",
   "metadata": {},
   "source": [
    "## MI62"
   ]
  },
  {
   "cell_type": "code",
   "execution_count": 6,
   "id": "9811f780",
   "metadata": {},
   "outputs": [],
   "source": [
    "import numpy as np\n",
    "import matplotlib.pyplot as plt\n",
    "import tensorflow as tf\n",
    "from tensorflow import keras"
   ]
  },
  {
   "cell_type": "code",
   "execution_count": 2,
   "id": "c6c98b62",
   "metadata": {},
   "outputs": [],
   "source": [
    "x = np.array([np.random.randint(0,9,30) for i in range(10000)])\n",
    "y = []\n",
    "for i in x:\n",
    "    if np.sum(i) <100:\n",
    "        y.append(0)\n",
    "    else :\n",
    "        y.append(1)\n",
    "y = np.array(y)\n",
    "\n",
    "x_empty, x_train, x_test = np.split(x,[0,8000], axis = 0)\n",
    "y_empty, y_train, y_test = np.split(y, [0,8000], axis = 0)\n",
    "\n",
    "\n",
    "x_train_dim = np.reshape(x_train,(8000,30,1))\n",
    "x_test_dim = np.reshape(x_test,(2000,30,1))\n"
   ]
  },
  {
   "cell_type": "code",
   "execution_count": 4,
   "id": "c7884acd",
   "metadata": {},
   "outputs": [
    {
     "name": "stdout",
     "output_type": "stream",
     "text": [
      "Epoch 1/60\n",
      "160/160 [==============================] - 8s 43ms/step - loss: 0.1794 - accuracy: 0.9243 - val_loss: 0.1301 - val_accuracy: 0.9255\n",
      "Epoch 2/60\n",
      "160/160 [==============================] - 7s 43ms/step - loss: 0.1509 - accuracy: 0.9351 - val_loss: 0.1481 - val_accuracy: 0.9250\n",
      "Epoch 3/60\n",
      "160/160 [==============================] - 7s 45ms/step - loss: 0.1327 - accuracy: 0.9302 - val_loss: 0.1223 - val_accuracy: 0.9255\n",
      "Epoch 4/60\n",
      "160/160 [==============================] - 7s 41ms/step - loss: 0.1148 - accuracy: 0.9341 - val_loss: 0.1216 - val_accuracy: 0.9255\n",
      "Epoch 5/60\n",
      "160/160 [==============================] - 7s 41ms/step - loss: 0.1386 - accuracy: 0.9380 - val_loss: 0.1387 - val_accuracy: 0.9250\n",
      "Epoch 6/60\n",
      "160/160 [==============================] - 7s 41ms/step - loss: 0.1148 - accuracy: 0.9300 - val_loss: 0.1137 - val_accuracy: 0.9290\n",
      "Epoch 7/60\n",
      "160/160 [==============================] - 7s 43ms/step - loss: 0.0985 - accuracy: 0.9442 - val_loss: 0.0963 - val_accuracy: 0.9480\n",
      "Epoch 8/60\n",
      "160/160 [==============================] - 7s 43ms/step - loss: 0.0940 - accuracy: 0.9584 - val_loss: 0.1306 - val_accuracy: 0.9450\n",
      "Epoch 9/60\n",
      "160/160 [==============================] - 7s 41ms/step - loss: 0.0699 - accuracy: 0.9770 - val_loss: 0.0428 - val_accuracy: 0.9850\n",
      "Epoch 10/60\n",
      "160/160 [==============================] - 7s 43ms/step - loss: 0.0617 - accuracy: 0.9780 - val_loss: 0.0665 - val_accuracy: 0.9695\n",
      "Epoch 11/60\n",
      "160/160 [==============================] - 7s 42ms/step - loss: 0.0627 - accuracy: 0.9749 - val_loss: 0.0326 - val_accuracy: 0.9920\n",
      "Epoch 12/60\n",
      "160/160 [==============================] - 7s 43ms/step - loss: 0.0558 - accuracy: 0.9749 - val_loss: 0.0418 - val_accuracy: 0.9850\n",
      "Epoch 13/60\n",
      "160/160 [==============================] - 8s 48ms/step - loss: 0.0439 - accuracy: 0.9826 - val_loss: 0.0473 - val_accuracy: 0.9770\n",
      "Epoch 14/60\n",
      "160/160 [==============================] - 7s 45ms/step - loss: 0.0422 - accuracy: 0.9830 - val_loss: 0.1326 - val_accuracy: 0.9625\n",
      "Epoch 15/60\n",
      "160/160 [==============================] - 7s 44ms/step - loss: 0.0478 - accuracy: 0.9827 - val_loss: 0.0931 - val_accuracy: 0.9575\n",
      "Epoch 16/60\n",
      "160/160 [==============================] - 7s 46ms/step - loss: 0.0445 - accuracy: 0.9815 - val_loss: 0.0274 - val_accuracy: 0.9925\n",
      "Epoch 17/60\n",
      "160/160 [==============================] - 7s 43ms/step - loss: 0.0367 - accuracy: 0.9855 - val_loss: 0.0449 - val_accuracy: 0.9790\n",
      "Epoch 18/60\n",
      "160/160 [==============================] - 8s 52ms/step - loss: 0.0291 - accuracy: 0.9883 - val_loss: 0.0402 - val_accuracy: 0.9835\n",
      "Epoch 19/60\n",
      "160/160 [==============================] - 8s 49ms/step - loss: 0.0396 - accuracy: 0.9836 - val_loss: 0.0752 - val_accuracy: 0.9725\n",
      "Epoch 20/60\n",
      "160/160 [==============================] - 7s 46ms/step - loss: 0.0378 - accuracy: 0.9833 - val_loss: 0.0714 - val_accuracy: 0.9660\n",
      "Epoch 21/60\n",
      "160/160 [==============================] - 7s 46ms/step - loss: 0.0386 - accuracy: 0.9849 - val_loss: 0.0412 - val_accuracy: 0.9830\n",
      "Epoch 22/60\n",
      "160/160 [==============================] - 8s 50ms/step - loss: 0.0338 - accuracy: 0.9846 - val_loss: 0.0211 - val_accuracy: 0.9950\n",
      "Epoch 23/60\n",
      "160/160 [==============================] - 7s 47ms/step - loss: 0.0441 - accuracy: 0.9825 - val_loss: 0.0385 - val_accuracy: 0.9790\n",
      "Epoch 24/60\n",
      "160/160 [==============================] - 7s 45ms/step - loss: 0.0341 - accuracy: 0.9868 - val_loss: 0.0333 - val_accuracy: 0.9905\n",
      "Epoch 25/60\n",
      "160/160 [==============================] - 7s 44ms/step - loss: 0.0312 - accuracy: 0.9870 - val_loss: 0.0426 - val_accuracy: 0.9820\n",
      "Epoch 26/60\n",
      "160/160 [==============================] - 8s 48ms/step - loss: 0.0266 - accuracy: 0.9896 - val_loss: 0.0275 - val_accuracy: 0.9865\n",
      "Epoch 27/60\n",
      "160/160 [==============================] - 7s 45ms/step - loss: 0.0435 - accuracy: 0.9808 - val_loss: 0.0633 - val_accuracy: 0.9680\n",
      "Epoch 28/60\n",
      "160/160 [==============================] - 7s 45ms/step - loss: 0.0265 - accuracy: 0.9891 - val_loss: 0.0512 - val_accuracy: 0.9760\n",
      "Epoch 29/60\n",
      "160/160 [==============================] - 7s 46ms/step - loss: 0.0359 - accuracy: 0.9855 - val_loss: 0.0467 - val_accuracy: 0.9795\n",
      "Epoch 30/60\n",
      "160/160 [==============================] - 7s 45ms/step - loss: 0.0365 - accuracy: 0.9845 - val_loss: 0.0240 - val_accuracy: 0.9905\n",
      "Epoch 31/60\n",
      "160/160 [==============================] - 8s 49ms/step - loss: 0.0254 - accuracy: 0.9902 - val_loss: 0.0215 - val_accuracy: 0.9925\n",
      "Epoch 32/60\n",
      "160/160 [==============================] - 7s 46ms/step - loss: 0.0355 - accuracy: 0.9850 - val_loss: 0.0277 - val_accuracy: 0.9900\n",
      "Epoch 33/60\n",
      "160/160 [==============================] - 7s 46ms/step - loss: 0.0323 - accuracy: 0.9884 - val_loss: 0.0296 - val_accuracy: 0.9835\n",
      "Epoch 34/60\n",
      "160/160 [==============================] - 8s 49ms/step - loss: 0.0268 - accuracy: 0.9890 - val_loss: 0.0300 - val_accuracy: 0.9885\n",
      "Epoch 35/60\n",
      "160/160 [==============================] - 8s 52ms/step - loss: 0.0428 - accuracy: 0.9839 - val_loss: 0.0204 - val_accuracy: 0.9955\n",
      "Epoch 36/60\n",
      "160/160 [==============================] - 9s 59ms/step - loss: 0.0255 - accuracy: 0.9904 - val_loss: 0.0242 - val_accuracy: 0.9935\n",
      "Epoch 37/60\n",
      "160/160 [==============================] - 7s 47ms/step - loss: 0.0295 - accuracy: 0.9871 - val_loss: 0.0420 - val_accuracy: 0.9765\n",
      "Epoch 38/60\n",
      "160/160 [==============================] - 7s 46ms/step - loss: 0.0264 - accuracy: 0.9901 - val_loss: 0.0205 - val_accuracy: 0.9935\n",
      "Epoch 39/60\n",
      "160/160 [==============================] - 8s 51ms/step - loss: 0.0277 - accuracy: 0.9904 - val_loss: 0.0177 - val_accuracy: 0.9990\n",
      "Epoch 40/60\n",
      "160/160 [==============================] - 8s 53ms/step - loss: 0.0276 - accuracy: 0.9879 - val_loss: 0.0164 - val_accuracy: 0.9965\n",
      "Epoch 41/60\n",
      "160/160 [==============================] - 8s 49ms/step - loss: 0.0275 - accuracy: 0.9895 - val_loss: 0.0200 - val_accuracy: 0.9935\n",
      "Epoch 42/60\n",
      "160/160 [==============================] - 9s 55ms/step - loss: 0.0263 - accuracy: 0.9887 - val_loss: 0.0615 - val_accuracy: 0.9755\n",
      "Epoch 43/60\n",
      "160/160 [==============================] - 8s 48ms/step - loss: 0.0273 - accuracy: 0.9877 - val_loss: 0.0250 - val_accuracy: 0.9865\n",
      "Epoch 44/60\n",
      "160/160 [==============================] - 8s 53ms/step - loss: 0.0290 - accuracy: 0.9883 - val_loss: 0.1450 - val_accuracy: 0.9555\n",
      "Epoch 45/60\n",
      "160/160 [==============================] - 8s 52ms/step - loss: 0.0338 - accuracy: 0.9854 - val_loss: 0.0300 - val_accuracy: 0.9865\n",
      "Epoch 46/60\n",
      "160/160 [==============================] - 8s 50ms/step - loss: 0.0221 - accuracy: 0.9920 - val_loss: 0.0192 - val_accuracy: 0.9910\n",
      "Epoch 47/60\n",
      "160/160 [==============================] - 8s 48ms/step - loss: 0.0388 - accuracy: 0.9836 - val_loss: 0.0203 - val_accuracy: 0.9960\n",
      "Epoch 48/60\n",
      "160/160 [==============================] - 8s 49ms/step - loss: 0.0295 - accuracy: 0.9874 - val_loss: 0.0315 - val_accuracy: 0.9865\n",
      "Epoch 49/60\n",
      "160/160 [==============================] - 9s 58ms/step - loss: 0.0230 - accuracy: 0.9916 - val_loss: 0.0164 - val_accuracy: 0.9930\n",
      "Epoch 50/60\n",
      "160/160 [==============================] - 8s 53ms/step - loss: 0.0258 - accuracy: 0.9902 - val_loss: 0.0490 - val_accuracy: 0.9750\n",
      "Epoch 51/60\n",
      "160/160 [==============================] - 8s 51ms/step - loss: 0.0290 - accuracy: 0.9869 - val_loss: 0.0311 - val_accuracy: 0.9870\n",
      "Epoch 52/60\n",
      "160/160 [==============================] - 8s 48ms/step - loss: 0.0258 - accuracy: 0.9894 - val_loss: 0.0508 - val_accuracy: 0.9750\n",
      "Epoch 53/60\n",
      "160/160 [==============================] - 8s 52ms/step - loss: 0.0252 - accuracy: 0.9890 - val_loss: 0.0227 - val_accuracy: 0.9910\n",
      "Epoch 54/60\n",
      "160/160 [==============================] - 8s 50ms/step - loss: 0.0228 - accuracy: 0.9910 - val_loss: 0.0429 - val_accuracy: 0.9815\n",
      "Epoch 55/60\n",
      "160/160 [==============================] - 8s 49ms/step - loss: 0.0261 - accuracy: 0.9900 - val_loss: 0.0946 - val_accuracy: 0.9565\n",
      "Epoch 56/60\n",
      "160/160 [==============================] - 8s 50ms/step - loss: 0.0247 - accuracy: 0.9899 - val_loss: 0.0247 - val_accuracy: 0.9905\n",
      "Epoch 57/60\n",
      "160/160 [==============================] - 8s 52ms/step - loss: 0.0203 - accuracy: 0.9916 - val_loss: 0.0217 - val_accuracy: 0.9950\n"
     ]
    },
    {
     "name": "stdout",
     "output_type": "stream",
     "text": [
      "Epoch 58/60\n",
      "160/160 [==============================] - 8s 50ms/step - loss: 0.0217 - accuracy: 0.9906 - val_loss: 0.0603 - val_accuracy: 0.9735\n",
      "Epoch 59/60\n",
      "160/160 [==============================] - 8s 49ms/step - loss: 0.0224 - accuracy: 0.9918 - val_loss: 0.0570 - val_accuracy: 0.9755\n",
      "Epoch 60/60\n",
      "160/160 [==============================] - 8s 51ms/step - loss: 0.0264 - accuracy: 0.9899 - val_loss: 0.0444 - val_accuracy: 0.9770\n"
     ]
    }
   ],
   "source": [
    "model_cnn = keras.Sequential(\n",
    "    [\n",
    "        keras.layers.LSTM(200, activation= 'linear',batch_input_shape=(50,30,1)),\n",
    "        keras.layers.Dense(1, activation = keras.activations.sigmoid), \n",
    "    ]\n",
    ")\n",
    "\n",
    "model_cnn.compile(loss = keras.losses.BinaryCrossentropy(), optimizer ='adam',metrics = ['accuracy'])\n",
    "model_cnn_history = model_cnn.fit(x_train_dim,y_train,shuffle=True, batch_size = 50, epochs = 60,validation_data = (x_test_dim, y_test))"
   ]
  },
  {
   "cell_type": "code",
   "execution_count": 11,
   "id": "63f242fb",
   "metadata": {},
   "outputs": [
    {
     "data": {
      "text/plain": [
       "[<matplotlib.lines.Line2D at 0x1ff772ae7c8>]"
      ]
     },
     "execution_count": 11,
     "metadata": {},
     "output_type": "execute_result"
    },
    {
     "data": {
      "image/png": "[encoded data removed]",
      "text/plain": [
       "<Figure size 432x288 with 1 Axes>"
      ]
     },
     "metadata": {
      "needs_background": "light"
     },
     "output_type": "display_data"
    }
   ],
   "source": [
    "plt.plot(model_cnn_history.history['accuracy'])\n",
    "plt.plot(model_cnn_history.history['val_accuracy'])\n"
   ]
  },
  {
   "cell_type": "code",
   "execution_count": null,
   "id": "d6e671f5",
   "metadata": {},
   "outputs": [],
   "source": []
  }
 ],
 "metadata": {
  "kernelspec": {
   "display_name": "Python 3 (ipykernel)",
   "language": "python",
   "name": "python3"
  },
  "language_info": {
   "codemirror_mode": {
    "name": "ipython",
    "version": 3
   },
   "file_extension": ".py",
   "mimetype": "text/x-python",
   "name": "python",
   "nbconvert_exporter": "python",
   "pygments_lexer": "ipython3",
   "version": "3.7.11"
  }
 },
 "nbformat": 4,
 "nbformat_minor": 5
}
