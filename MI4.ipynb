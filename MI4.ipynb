{
 "cells": [
  {
   "cell_type": "markdown",
   "id": "c7a9f45c",
   "metadata": {},
   "source": [
    "    MI4\n",
    "    Comparison of the gradient descent method"
   ]
  },
  {
   "cell_type": "code",
   "execution_count": 3,
   "id": "bc83f07b",
   "metadata": {},
   "outputs": [],
   "source": [
    "import numpy as np"
   ]
  },
  {
   "cell_type": "code",
   "execution_count": 4,
   "id": "37bd2fbd",
   "metadata": {},
   "outputs": [],
   "source": [
    "X = np.array([[-1,0.3,2]])\n",
    "Y = np.array([[-0.1,0.5,0.5]])\n",
    "\n",
    "W = np.array([[-0.45],[0.2]]).T\n",
    "\n",
    "\n",
    "def neuron_output (X,W):\n",
    "    return np.dot(X,W[0][1])+W[0][0]\n",
    "\n",
    "    \n",
    "def gradient_descent(W,Y_hat,X,Y,n,iterations):\n",
    "    for i in range (iterations):\n",
    "        m = len(X[0])\n",
    "        X = [[1,1,1],X]\n",
    "        dZ = 1/p*np.dot(np.dot(X,X.T),W)  - 1/p*np.dot(X,Y.T)    \n",
    "        dW = (1/p)*np.dot(dZ, X.T)\n",
    "        W = W-n*dW\n",
    "    \n",
    "    return W\n",
    "\n",
    "\n",
    "    "
   ]
  },
  {
   "cell_type": "code",
   "execution_count": null,
   "id": "de0d371b",
   "metadata": {},
   "outputs": [],
   "source": []
  }
 ],
 "metadata": {
  "kernelspec": {
   "display_name": "Python 3 (ipykernel)",
   "language": "python",
   "name": "python3"
  },
  "language_info": {
   "codemirror_mode": {
    "name": "ipython",
    "version": 3
   },
   "file_extension": ".py",
   "mimetype": "text/x-python",
   "name": "python",
   "nbconvert_exporter": "python",
   "pygments_lexer": "ipython3",
   "version": "3.7.11"
  }
 },
 "nbformat": 4,
 "nbformat_minor": 5
}
