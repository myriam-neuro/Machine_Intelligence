{
 "cells": [
  {
   "cell_type": "markdown",
   "id": "b8e0994a-5196-455c-a318-4168a558b475",
   "metadata": {},
   "source": [
    "# Sheet 4\n",
    "## Question 2\n",
    "\n",
    "### _MI BCCN 2022_\n",
    "\n",
    "Ahmed Abdalfatah - Arina Belova - Luisa Drescher - Myriam Hamon\n"
   ]
  },
  {
   "cell_type": "code",
   "execution_count": 2,
   "id": "feef45d0-5400-472e-8154-de3c5897ddfa",
   "metadata": {},
   "outputs": [],
   "source": [
    "import numpy as np\n",
    "import matplotlib.pyplot as plt"
   ]
  },
  {
   "cell_type": "code",
   "execution_count": 3,
   "id": "9ecde8f0",
   "metadata": {},
   "outputs": [],
   "source": [
    "# Linear neuron: input-output\n",
    "x = np.array([-1,0.3,2])\n",
    "y = np.array([-0.1, 0.5, 0.5])"
   ]
  },
  {
   "cell_type": "code",
   "execution_count": 4,
   "id": "15be8355",
   "metadata": {},
   "outputs": [
    {
     "data": {
      "text/plain": [
       "array([[ 1. ,  1. ,  1. ],\n",
       "       [-1. ,  0.3,  2. ]])"
      ]
     },
     "execution_count": 4,
     "metadata": {},
     "output_type": "execute_result"
    }
   ],
   "source": [
    "x_with_bias = np.transpose(np.array([[1, x_i] for x_i in x]))\n",
    "x_with_bias"
   ]
  },
  {
   "cell_type": "code",
   "execution_count": 5,
   "id": "a7915501",
   "metadata": {},
   "outputs": [],
   "source": [
    "# Gradient descent components\n",
    "p = len(x)\n",
    "\n",
    "hessian = 1/p * x_with_bias @ np.transpose(x_with_bias)"
   ]
  },
  {
   "cell_type": "code",
   "execution_count": 6,
   "id": "abc769ba",
   "metadata": {},
   "outputs": [],
   "source": [
    "def gradient(current_weight):\n",
    "    return (hessian @ current_weight) - 1/p * x_with_bias @ y  "
   ]
  },
  {
   "cell_type": "markdown",
   "id": "490204dc",
   "metadata": {},
   "source": [
    "### Brute-force gradient descent"
   ]
  },
  {
   "cell_type": "code",
   "execution_count": 7,
   "id": "5c0745b7",
   "metadata": {},
   "outputs": [],
   "source": [
    "def gradient_update(current_weight, l_r):\n",
    "    return current_weight - l_r * gradient(current_weight)"
   ]
  },
  {
   "cell_type": "code",
   "execution_count": 8,
   "id": "62ab97b1",
   "metadata": {},
   "outputs": [],
   "source": [
    "reference_weight = np.zeros(2)\n",
    "current_weight = np.array([-0.45,0.2]) # bias and weight\n",
    "array_of_weights = [current_weight]\n",
    "l_r = 0.01 # adequate?\n",
    "\n",
    "# do the first update before the while loop because otherwise god knows how to code this:\n",
    "reference_weight = gradient_update(current_weight, l_r)\n",
    "array_of_weights.append(reference_weight)\n",
    "\n",
    "while not (np.isclose(reference_weight, current_weight)).all():\n",
    "    current_weight = reference_weight\n",
    "    reference_weight = gradient_update(current_weight, l_r)\n",
    "    array_of_weights.append(reference_weight)\n",
    " "
   ]
  },
  {
   "cell_type": "code",
   "execution_count": 9,
   "id": "320ef3a8",
   "metadata": {},
   "outputs": [
    {
     "data": {
      "text/plain": [
       "957"
      ]
     },
     "execution_count": 9,
     "metadata": {},
     "output_type": "execute_result"
    }
   ],
   "source": [
    "# A looooot of steps needed to converge\n",
    "len(array_of_weights)"
   ]
  },
  {
   "cell_type": "code",
   "execution_count": 10,
   "id": "249be662",
   "metadata": {},
   "outputs": [],
   "source": [
    "w_0_val = [arr[0] for arr in array_of_weights]\n",
    "w_1_val = [arr[1] for arr in array_of_weights]"
   ]
  },
  {
   "cell_type": "code",
   "execution_count": 11,
   "id": "d9d38621",
   "metadata": {},
   "outputs": [
    {
     "data": {
      "image/png": "[encoded data removed]",
      "text/plain": [
       "<Figure size 432x288 with 1 Axes>"
      ]
     },
     "metadata": {
      "needs_background": "light"
     },
     "output_type": "display_data"
    }
   ],
   "source": [
    "plt.scatter(w_0_val, w_1_val)\n",
    "plt.xlabel(\"w_0\")\n",
    "plt.ylabel(\"w_1\")\n",
    "plt.show()"
   ]
  },
  {
   "cell_type": "code",
   "execution_count": 12,
   "id": "0e4c59bd",
   "metadata": {},
   "outputs": [
    {
     "data": {
      "image/png": "[encoded data removed]",
      "text/plain": [
       "<Figure size 432x288 with 1 Axes>"
      ]
     },
     "metadata": {
      "needs_background": "light"
     },
     "output_type": "display_data"
    }
   ],
   "source": [
    "plt.scatter(range(len(w_0_val)), w_0_val, label=\"w_0\")\n",
    "plt.scatter(range(len(w_1_val)), w_1_val, label=\"w_1\")\n",
    "plt.xlabel(\"iterations\")\n",
    "plt.ylabel(\"values of weights\")\n",
    "plt.legend()\n",
    "plt.title(\"Evolution of weights over iterations\")\n",
    "plt.show()"
   ]
  },
  {
   "cell_type": "markdown",
   "id": "b13eb844",
   "metadata": {},
   "source": [
    "### A bit better line search"
   ]
  },
  {
   "cell_type": "code",
   "execution_count": 13,
   "id": "1a3fe38f",
   "metadata": {},
   "outputs": [],
   "source": [
    "# Line search \n",
    "def line_optimal_l_r(grad):\n",
    "    return np.dot(grad, grad) / np.dot(grad, hessian @ grad)"
   ]
  },
  {
   "cell_type": "code",
   "execution_count": 14,
   "id": "31e0b39a",
   "metadata": {},
   "outputs": [],
   "source": [
    "def line_gradient_update(current_weight):\n",
    "    grad = gradient(current_weight)\n",
    "    return current_weight - line_optimal_l_r(grad) * grad"
   ]
  },
  {
   "cell_type": "code",
   "execution_count": 15,
   "id": "45a5b406",
   "metadata": {},
   "outputs": [],
   "source": [
    "current_weight = np.array([-0.45,0.2]) # bias and weight\n",
    "reference_weight = np.zeros(2)\n",
    "array_of_weights_line = [current_weight]\n",
    "\n",
    "# do the first update before the while loop because otherwise god knows how to code this:\n",
    "reference_weight = line_gradient_update(current_weight)\n",
    "array_of_weights_line.append(reference_weight)\n",
    "\n",
    "while not (np.isclose(reference_weight, current_weight)).all():\n",
    "    current_weight = reference_weight\n",
    "    reference_weight = line_gradient_update(current_weight)\n",
    "    array_of_weights_line.append(reference_weight)\n",
    " "
   ]
  },
  {
   "cell_type": "code",
   "execution_count": 16,
   "id": "8bed872c",
   "metadata": {},
   "outputs": [
    {
     "data": {
      "text/plain": [
       "16"
      ]
     },
     "execution_count": 16,
     "metadata": {},
     "output_type": "execute_result"
    }
   ],
   "source": [
    "# Less steps!\n",
    "len(array_of_weights_line)"
   ]
  },
  {
   "cell_type": "code",
   "execution_count": 17,
   "id": "6288f93a",
   "metadata": {},
   "outputs": [],
   "source": [
    "w_0_val = [arr[0] for arr in array_of_weights_line]\n",
    "w_1_val = [arr[1] for arr in array_of_weights_line]"
   ]
  },
  {
   "cell_type": "code",
   "execution_count": 18,
   "id": "78b22256",
   "metadata": {},
   "outputs": [
    {
     "data": {
      "image/png": "[encoded data removed]",
      "text/plain": [
       "<Figure size 432x288 with 1 Axes>"
      ]
     },
     "metadata": {
      "needs_background": "light"
     },
     "output_type": "display_data"
    }
   ],
   "source": [
    "plt.scatter(w_0_val, w_1_val)\n",
    "plt.xlabel(\"w_0\")\n",
    "plt.ylabel(\"w_1\")\n",
    "plt.show()"
   ]
  },
  {
   "cell_type": "code",
   "execution_count": 19,
   "id": "849c1ba0",
   "metadata": {},
   "outputs": [
    {
     "data": {
      "image/png": "[encoded data removed]",
      "text/plain": [
       "<Figure size 432x288 with 1 Axes>"
      ]
     },
     "metadata": {
      "needs_background": "light"
     },
     "output_type": "display_data"
    }
   ],
   "source": [
    "plt.scatter(range(len(w_0_val)), w_0_val, label=\"w_0\")\n",
    "plt.scatter(range(len(w_1_val)), w_1_val, label=\"w_1\")\n",
    "plt.xlabel(\"iterations\")\n",
    "plt.ylabel(\"values of weights\")\n",
    "plt.legend()\n",
    "plt.title(\"Evolution of weights over iterations\")\n",
    "plt.show()"
   ]
  },
  {
   "cell_type": "markdown",
   "id": "713fa514",
   "metadata": {},
   "source": [
    "From the plots we can see that in line search we indeed have this \"moving backwards\" downside of the method as w_1 rose and dropped after 3 first iterations"
   ]
  },
  {
   "cell_type": "markdown",
   "id": "6c547099",
   "metadata": {},
   "source": [
    "### The power of conjugates!"
   ]
  },
  {
   "cell_type": "code",
   "execution_count": 20,
   "id": "110e37d1",
   "metadata": {},
   "outputs": [],
   "source": [
    "def conj_optimal_l_r(direction, grad):\n",
    "    return -np.dot(direction, grad) / np.dot(direction, hessian @ direction)"
   ]
  },
  {
   "cell_type": "code",
   "execution_count": 21,
   "id": "467de03e",
   "metadata": {},
   "outputs": [],
   "source": [
    "def conj_gradient_update(grad, direction, current_weight):\n",
    "    return current_weight + conj_optimal_l_r(direction, grad) * direction"
   ]
  },
  {
   "cell_type": "code",
   "execution_count": 22,
   "id": "cfd84043",
   "metadata": {},
   "outputs": [],
   "source": [
    "def conj_direction_update(new_grad, old_grad, old_direction):\n",
    "    beta = - np.dot(new_grad, new_grad) / np.dot(old_grad, old_grad)\n",
    "    return new_grad + beta * old_direction"
   ]
  },
  {
   "cell_type": "code",
   "execution_count": 23,
   "id": "097d00c8",
   "metadata": {},
   "outputs": [],
   "source": [
    "def one_iteration_conj(current_weight, current_direction):\n",
    "    current_gradient = gradient(current_weight)\n",
    "    new_weight = conj_gradient_update(current_gradient, current_direction, current_weight)\n",
    "    new_gradient = gradient(new_weight)\n",
    "    new_direction = conj_direction_update(new_gradient, current_gradient, current_direction)\n",
    "    return new_weight, new_direction"
   ]
  },
  {
   "cell_type": "code",
   "execution_count": 24,
   "id": "21dbb940",
   "metadata": {},
   "outputs": [],
   "source": [
    "current_weight = np.array([-0.45,0.2]) # bias and weight\n",
    "reference_weight = np.zeros(2)\n",
    "array_of_weights_conj = [current_weight]\n",
    "conj_direction = -gradient(current_weight)\n",
    "\n",
    "# do the first update before the while loop because otherwise god knows how to code this:\n",
    "reference_weight, conj_direction = one_iteration_conj(current_weight, conj_direction)\n",
    "array_of_weights_conj.append(reference_weight)\n",
    "\n",
    "while not (((np.isclose(reference_weight, current_weight)).all()) or (not np.any(conj_direction))):\n",
    "    current_weight = reference_weight\n",
    "    reference_weight, conj_direction = one_iteration_conj(current_weight, conj_direction)\n",
    "    array_of_weights_conj.append(reference_weight)"
   ]
  },
  {
   "cell_type": "code",
   "execution_count": 25,
   "id": "2791c962",
   "metadata": {},
   "outputs": [
    {
     "data": {
      "text/plain": [
       "3"
      ]
     },
     "execution_count": 25,
     "metadata": {},
     "output_type": "execute_result"
    }
   ],
   "source": [
    "len(array_of_weights_conj)\n",
    "# Yey, even smaller # of steps!"
   ]
  },
  {
   "cell_type": "code",
   "execution_count": 26,
   "id": "e306f274",
   "metadata": {},
   "outputs": [],
   "source": [
    "w_0_val = [arr[0] for arr in array_of_weights_conj]\n",
    "w_1_val = [arr[1] for arr in array_of_weights_conj]"
   ]
  },
  {
   "cell_type": "code",
   "execution_count": 27,
   "id": "3e799cba",
   "metadata": {},
   "outputs": [
    {
     "data": {
      "image/png": "[encoded data removed]",
      "text/plain": [
       "<Figure size 432x288 with 1 Axes>"
      ]
     },
     "metadata": {
      "needs_background": "light"
     },
     "output_type": "display_data"
    }
   ],
   "source": [
    "plt.scatter(w_0_val, w_1_val)\n",
    "plt.xlabel(\"w_0\")\n",
    "plt.ylabel(\"w_1\")\n",
    "plt.show()"
   ]
  },
  {
   "cell_type": "code",
   "execution_count": 28,
   "id": "e540af6f",
   "metadata": {},
   "outputs": [
    {
     "data": {
      "image/png": "[encoded data removed]",
      "text/plain": [
       "<Figure size 432x288 with 1 Axes>"
      ]
     },
     "metadata": {
      "needs_background": "light"
     },
     "output_type": "display_data"
    }
   ],
   "source": [
    "plt.scatter(range(len(w_0_val)), w_0_val, label=\"w_0\")\n",
    "plt.scatter(range(len(w_1_val)), w_1_val, label=\"w_1\")\n",
    "plt.xlabel(\"iterations\")\n",
    "plt.ylabel(\"values of weights\")\n",
    "plt.legend()\n",
    "plt.title(\"Evolution of weights over iterations\")\n",
    "plt.show()"
   ]
  },
  {
   "cell_type": "markdown",
   "id": "ca829434",
   "metadata": {},
   "source": [
    "We showed that the fastest gradient method is conjugate gradient procedure that converges to similar weights as other more brute force methods. We can also observe that w_1 is a bit odd because in all the gradient methods it does not have consistent trend and tends to rise and drop in value in the beginning of the weight evolution. However, in conjugate method we converge the fastest.\n",
    "\n",
    "Order or performance (from best to worst):\n",
    "1. Conjugate Method\n",
    "2. Line search\n",
    "3. O.G Gradient Descent :D\n",
    "\n",
    "Ciao!"
   ]
  },
  {
   "cell_type": "code",
   "execution_count": null,
   "id": "55c75778",
   "metadata": {},
   "outputs": [],
   "source": []
  }
 ],
 "metadata": {
  "kernelspec": {
   "display_name": "Python 3 (ipykernel)",
   "language": "python",
   "name": "python3"
  },
  "language_info": {
   "codemirror_mode": {
    "name": "ipython",
    "version": 3
   },
   "file_extension": ".py",
   "mimetype": "text/x-python",
   "name": "python",
   "nbconvert_exporter": "python",
   "pygments_lexer": "ipython3",
   "version": "3.9.6"
  }
 },
 "nbformat": 4,
 "nbformat_minor": 5
}
